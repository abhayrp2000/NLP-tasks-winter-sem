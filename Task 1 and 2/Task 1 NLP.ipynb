{
 "cells": [
  {
   "cell_type": "code",
   "execution_count": 2,
   "metadata": {},
   "outputs": [],
   "source": [
    "s=\"Shakespeare gave the world best of theatrics\""
   ]
  },
  {
   "cell_type": "code",
   "execution_count": 3,
   "metadata": {},
   "outputs": [
    {
     "name": "stdout",
     "output_type": "stream",
     "text": [
      "Shakespeare gave the world best of theatrics\n"
     ]
    }
   ],
   "source": [
    "print(s)"
   ]
  },
  {
   "cell_type": "code",
   "execution_count": 4,
   "metadata": {},
   "outputs": [
    {
     "data": {
      "text/plain": [
       "44"
      ]
     },
     "execution_count": 4,
     "metadata": {},
     "output_type": "execute_result"
    }
   ],
   "source": [
    "len(s)"
   ]
  },
  {
   "cell_type": "code",
   "execution_count": 7,
   "metadata": {},
   "outputs": [],
   "source": [
    "s='''William Shakespeare (bapt. 26 April 1564 – 23 April 1616)\n",
    "[a] was an English poet, playwright, and actor, widely regarded as the greatest writer in the English language and the world's greatest dramatist.\n",
    "[2][3][4] He is often called England's national poet and the \"Bard of Avon\" (or simply \"the Bard\").\n",
    "[5][b] His extant works, including collaborations, consist of some 39 plays,[c] 154 sonnets, two long narrative poems, and a few other verses, some of uncertain authorship. \n",
    "His plays have been translated into every major living language and are performed more often than those of any other playwright.[7]'''"
   ]
  },
  {
   "cell_type": "code",
   "execution_count": 8,
   "metadata": {
    "scrolled": true
   },
   "outputs": [
    {
     "data": {
      "text/plain": [
       "'William Shakespeare (bapt. 26 April 1564 – 23 April 1616)\\n[a] was an English poet, playwright, and actor, widely regarded as the greatest writer in the English language and the world\\'s greatest dramatist.\\n[2][3][4] He is often called England\\'s national poet and the \"Bard of Avon\" (or simply \"the Bard\").\\n[5][b] His extant works, including collaborations, consist of some 39 plays,[c] 154 sonnets, two long narrative poems, and a few other verses, some of uncertain authorship. \\nHis plays have been translated into every major living language and are performed more often than those of any other playwright.[7]'"
      ]
     },
     "execution_count": 8,
     "metadata": {},
     "output_type": "execute_result"
    }
   ],
   "source": [
    "s"
   ]
  },
  {
   "cell_type": "code",
   "execution_count": 18,
   "metadata": {},
   "outputs": [],
   "source": [
    "l=s.split(\" \")"
   ]
  },
  {
   "cell_type": "code",
   "execution_count": 9,
   "metadata": {},
   "outputs": [],
   "source": [
    "hindi=\"पंडित जवाहर लाल नेहरू का जन्म 14 नवंबर 1889 को इलाहबाद में हुआ था। नेहरू जी का बच्चों से बड़ा स्नेह था और वे बच्चों को देश का भावी निर्माता मानते थे। बच्चों के प्रति उनके इस स्नेह भाव के कारण बच्चे भी उनसे बेहद लगाव और प्रेम रखते थे और उन्हें चाचा नेहरू कहकर पुकारते थे। यही कारण है कि नेहरू जी के जन्मदिन को बाल दिवस के रूप में मनाया जाता है।\""
   ]
  },
  {
   "cell_type": "code",
   "execution_count": 10,
   "metadata": {},
   "outputs": [
    {
     "data": {
      "text/plain": [
       "'पंडित जवाहर लाल नेहरू का जन्म 14 नवंबर 1889 को इलाहबाद में हुआ था। नेहरू जी का बच्चों से बड़ा स्नेह था और वे बच्चों को देश का भावी निर्माता मानते थे। बच्चों के प्रति उनके इस स्नेह भाव के कारण बच्चे भी उनसे बेहद लगाव और प्रेम रखते थे और उन्हें चाचा नेहरू कहकर पुकारते थे। यही कारण है कि नेहरू जी के जन्मदिन को बाल दिवस के रूप में मनाया जाता है।'"
      ]
     },
     "execution_count": 10,
     "metadata": {},
     "output_type": "execute_result"
    }
   ],
   "source": [
    "hindi\n"
   ]
  },
  {
   "cell_type": "markdown",
   "metadata": {},
   "source": [
    "##String Functions:\n",
    "\n",
    "1)Counting frequencies of each word\n",
    "2)Finding unique words\n",
    "3)Total word count\n"
   ]
  },
  {
   "cell_type": "code",
   "execution_count": 20,
   "metadata": {},
   "outputs": [
    {
     "name": "stdout",
     "output_type": "stream",
     "text": [
      "Frequency of William is 1\n",
      "Frequency of Shakespeare is 1\n",
      "Frequency of (bapt. is 1\n",
      "Frequency of 26 is 1\n",
      "Frequency of April is 2\n",
      "Frequency of 1564 is 1\n",
      "Frequency of – is 1\n",
      "Frequency of 23 is 1\n",
      "Frequency of April is 2\n",
      "Frequency of 1616)\n",
      "[a] is 1\n",
      "Frequency of was is 1\n",
      "Frequency of an is 1\n",
      "Frequency of English is 2\n",
      "Frequency of poet, is 1\n",
      "Frequency of playwright, is 1\n",
      "Frequency of and is 5\n",
      "Frequency of actor, is 1\n",
      "Frequency of widely is 1\n",
      "Frequency of regarded is 1\n",
      "Frequency of as is 1\n",
      "Frequency of the is 4\n",
      "Frequency of greatest is 2\n",
      "Frequency of writer is 1\n",
      "Frequency of in is 1\n",
      "Frequency of the is 4\n",
      "Frequency of English is 2\n",
      "Frequency of language is 2\n",
      "Frequency of and is 5\n",
      "Frequency of the is 4\n",
      "Frequency of world's is 1\n",
      "Frequency of greatest is 2\n",
      "Frequency of dramatist.\n",
      "[2][3][4] is 1\n",
      "Frequency of He is 1\n",
      "Frequency of is is 1\n",
      "Frequency of often is 2\n",
      "Frequency of called is 1\n",
      "Frequency of England's is 1\n",
      "Frequency of national is 1\n",
      "Frequency of poet is 1\n",
      "Frequency of and is 5\n",
      "Frequency of the is 4\n",
      "Frequency of \"Bard is 1\n",
      "Frequency of of is 4\n",
      "Frequency of Avon\" is 1\n",
      "Frequency of (or is 1\n",
      "Frequency of simply is 1\n",
      "Frequency of \"the is 1\n",
      "Frequency of Bard\").\n",
      "[5][b] is 1\n",
      "Frequency of His is 1\n",
      "Frequency of extant is 1\n",
      "Frequency of works, is 1\n",
      "Frequency of including is 1\n",
      "Frequency of collaborations, is 1\n",
      "Frequency of consist is 1\n",
      "Frequency of of is 4\n",
      "Frequency of some is 2\n",
      "Frequency of 39 is 1\n",
      "Frequency of plays,[c] is 1\n",
      "Frequency of 154 is 1\n",
      "Frequency of sonnets, is 1\n",
      "Frequency of two is 1\n",
      "Frequency of long is 1\n",
      "Frequency of narrative is 1\n",
      "Frequency of poems, is 1\n",
      "Frequency of and is 5\n",
      "Frequency of a is 1\n",
      "Frequency of few is 1\n",
      "Frequency of other is 2\n",
      "Frequency of verses, is 1\n",
      "Frequency of some is 2\n",
      "Frequency of of is 4\n",
      "Frequency of uncertain is 1\n",
      "Frequency of authorship. is 1\n",
      "Frequency of \n",
      "His is 1\n",
      "Frequency of plays is 1\n",
      "Frequency of have is 1\n",
      "Frequency of been is 1\n",
      "Frequency of translated is 1\n",
      "Frequency of into is 1\n",
      "Frequency of every is 1\n",
      "Frequency of major is 1\n",
      "Frequency of living is 1\n",
      "Frequency of language is 2\n",
      "Frequency of and is 5\n",
      "Frequency of are is 1\n",
      "Frequency of performed is 1\n",
      "Frequency of more is 1\n",
      "Frequency of often is 2\n",
      "Frequency of than is 1\n",
      "Frequency of those is 1\n",
      "Frequency of of is 4\n",
      "Frequency of any is 1\n",
      "Frequency of other is 2\n",
      "Frequency of playwright.[7] is 1\n"
     ]
    }
   ],
   "source": [
    "#1 counting frequencies of each word\n",
    "\n",
    "for i in l:\n",
    "    print(\"Frequency of \"+i +\" is \"+str(l.count(i)))"
   ]
  },
  {
   "cell_type": "code",
   "execution_count": 21,
   "metadata": {},
   "outputs": [],
   "source": [
    "#Uniques words\n",
    "unique=[]"
   ]
  },
  {
   "cell_type": "code",
   "execution_count": 23,
   "metadata": {},
   "outputs": [
    {
     "name": "stdout",
     "output_type": "stream",
     "text": [
      "['William', 'Shakespeare', '(bapt.', '26', 'April', '1564', '–', '23', '1616)\\n[a]', 'was', 'an', 'English', 'poet,', 'playwright,', 'and', 'actor,', 'widely', 'regarded', 'as', 'the', 'greatest', 'writer', 'in', 'language', \"world's\", 'dramatist.\\n[2][3][4]', 'He', 'is', 'often', 'called', \"England's\", 'national', 'poet', '\"Bard', 'of', 'Avon\"', '(or', 'simply', '\"the', 'Bard\").\\n[5][b]', 'His', 'extant', 'works,', 'including', 'collaborations,', 'consist', 'some', '39', 'plays,[c]', '154', 'sonnets,', 'two', 'long', 'narrative', 'poems,', 'a', 'few', 'other', 'verses,', 'uncertain', 'authorship.', '\\nHis', 'plays', 'have', 'been', 'translated', 'into', 'every', 'major', 'living', 'are', 'performed', 'more', 'than', 'those', 'any', 'playwright.[7]']\n"
     ]
    }
   ],
   "source": [
    "for i in l:\n",
    "    if not i in unique:\n",
    "        unique.append(i)\n",
    "        \n",
    "print(unique)"
   ]
  },
  {
   "cell_type": "code",
   "execution_count": 25,
   "metadata": {},
   "outputs": [
    {
     "name": "stdout",
     "output_type": "stream",
     "text": [
      "The total word count is 94\n"
     ]
    }
   ],
   "source": [
    "#total word count\n",
    "print(\"The total word count is \"+str(len(l)))"
   ]
  },
  {
   "cell_type": "code",
   "execution_count": null,
   "metadata": {},
   "outputs": [],
   "source": []
  }
 ],
 "metadata": {
  "kernelspec": {
   "display_name": "Python 3",
   "language": "python",
   "name": "python3"
  },
  "language_info": {
   "codemirror_mode": {
    "name": "ipython",
    "version": 3
   },
   "file_extension": ".py",
   "mimetype": "text/x-python",
   "name": "python",
   "nbconvert_exporter": "python",
   "pygments_lexer": "ipython3",
   "version": "3.7.4"
  }
 },
 "nbformat": 4,
 "nbformat_minor": 2
}
